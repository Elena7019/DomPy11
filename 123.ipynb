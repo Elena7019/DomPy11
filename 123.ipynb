{
 "cells": [
  {
   "cell_type": "code",
   "execution_count": 30,
   "id": "3a5db018",
   "metadata": {},
   "outputs": [],
   "source": [
    "#f(x) = 5x^2 + 10x - 30\n",
    "\n",
    "#Определить корни\n",
    "\n",
    "#Найти интервалы, на которых функция возрастает\n",
    "\n",
    "#Найти интервалы, на которых функция убывает\n",
    "\n",
    "#Построить график\n",
    "\n",
    "#Вычислить вершину\n",
    "\n",
    "#Определить промежутки, на котором f > 0\n",
    "\n",
    "#Определить промежутки, на котором f < 0"
   ]
  },
  {
   "cell_type": "code",
   "execution_count": 157,
   "id": "2be7fda9",
   "metadata": {},
   "outputs": [],
   "source": [
    "from sympy import *\n",
    "from sympy.plotting import plot\n",
    "from sympy.solvers import solveset\n",
    "import math\n",
    "x, y, x1, x2, q, w, e, f1, f2, f3 = symbols('x y x1 x2 q w e f1 f2 f3')"
   ]
  },
  {
   "cell_type": "code",
   "execution_count": 158,
   "id": "534e2653",
   "metadata": {},
   "outputs": [
    {
     "name": "stdout",
     "output_type": "stream",
     "text": [
      "Корни являются действительными числами и равны:\n",
      "1.6457513110645905\n",
      "-3.6457513110645907\n",
      "None\n"
     ]
    }
   ],
   "source": [
    "def findRoots(a, b, c):\n",
    "    dis_form = b * b - 4 * a * c \n",
    "    sqrt_val = math.sqrt(abs(dis_form)) \n",
    " \n",
    " \n",
    "    if dis_form > 0: \n",
    "        print('Корни являются действительными числами и равны:') \n",
    "        print((-b + sqrt_val) /(2 * a)) \n",
    "        print((-b - sqrt_val) /(2 * a)) \n",
    " \n",
    "    elif dis_form == 0: \n",
    "        print('Корень равен: ') \n",
    "        print(-b /(2 * a)) \n",
    " \n",
    " \n",
    "    else: \n",
    "        print('Корни являются комплексными числами и равны:') \n",
    "        print(- b /(2 * a), \" + i\", sqrt_val) \n",
    "        print(- b /(2 * a), \" - i\", sqrt_val) \n",
    " \n",
    " \n",
    "a = int(5) \n",
    "b = int(10) \n",
    "c = int(-30) \n",
    " \n",
    "\n",
    "print(findRoots(a, b, c))"
   ]
  },
  {
   "cell_type": "code",
   "execution_count": 159,
   "id": "3fef5257",
   "metadata": {},
   "outputs": [
    {
     "data": {
      "text/plain": [
       "      fun: -35.0\n",
       " hess_inv: array([[0.1]])\n",
       "      jac: array([0.])\n",
       "  message: 'Optimization terminated successfully.'\n",
       "     nfev: 6\n",
       "      nit: 2\n",
       "     njev: 3\n",
       "   status: 0\n",
       "  success: True\n",
       "        x: array([-1.00000002])"
      ]
     },
     "execution_count": 159,
     "metadata": {},
     "output_type": "execute_result"
    }
   ],
   "source": [
    "from scipy import optimize\n",
    "def f(x):\n",
    "    return (5*(x**2)+10*x-30)\n",
    "\n",
    "optimize.minimize(f, [1])"
   ]
  },
  {
   "cell_type": "code",
   "execution_count": 160,
   "id": "86c5cf6a",
   "metadata": {},
   "outputs": [
    {
     "name": "stdout",
     "output_type": "stream",
     "text": [
      "Функция убывает на интервале [-оо; -1], функция возрастает на интервале от [-1, +oo]. Вершина имеет координаты (-1, -35)\n"
     ]
    }
   ],
   "source": [
    "if a > 0:\n",
    "    print(f'Функция убывает на интервале [-оо; {-1}], функция возрастает на интервале от [{-1}, +oo]. Вершина имеет координаты (-1, -35)')\n",
    "else:\n",
    "    print(f'Функция возрастает на интервале [-оо; {-1}], функция убывает на интервале от [{-1}, +oo]. Вершина имеет координаты (-1, -35)')"
   ]
  },
  {
   "cell_type": "code",
   "execution_count": 161,
   "id": "cb3de9c6",
   "metadata": {},
   "outputs": [
    {
     "data": {
      "image/png": "[encoded data removed]",
      "text/plain": [
       "<Figure size 640x480 with 1 Axes>"
      ]
     },
     "metadata": {},
     "output_type": "display_data"
    },
    {
     "name": "stdout",
     "output_type": "stream",
     "text": [
      "5*x**2 + 10*x - 30\n"
     ]
    }
   ],
   "source": [
    "f=(5*x**2)+(10*x)-30\n",
    "plot(f)\n",
    "print(f)"
   ]
  },
  {
   "cell_type": "code",
   "execution_count": 163,
   "id": "13561f04",
   "metadata": {},
   "outputs": [
    {
     "name": "stdout",
     "output_type": "stream",
     "text": [
      "f>0 на интервале [-oo, -3,64]\n",
      "f<0 на интервале [-3.64, 1.64]\n",
      "f>0 на интервале [1.64, +oo]\n"
     ]
    }
   ],
   "source": [
    "q = -3.64 - 1\n",
    "w = 0\n",
    "e  = 1.64 + 1\n",
    "\n",
    "f1 = 5*(q**2)+10*q-30\n",
    "f2 = 5*(w**2)+10*w-30\n",
    "f3 = 5*(e**2)+10*e-30\n",
    "\n",
    "if f1 > 0:\n",
    "    print(f\"f>0 на интервале [-oo, -3,64]\")\n",
    "else:\n",
    "    print(f\"f<0 на интервале [-oo, {-3,64}]\")\n",
    "\n",
    "if f2 > 0:\n",
    "    print(f\"f>0 на интервале [{-3.64}, {1.64}]\")\n",
    "else: \n",
    "    print(f\"f<0 на интервале [{-3.64}, {1.64}]\")\n",
    "          \n",
    "if f3 > 0:\n",
    "    print(f\"f>0 на интервале [{1.64}, +oo]\")\n",
    "else: \n",
    "    print(f\"f<0 на интервале [{1.64}, +oo]\")\n"
   ]
  },
  {
   "cell_type": "code",
   "execution_count": null,
   "id": "02d9dec2",
   "metadata": {},
   "outputs": [],
   "source": []
  }
 ],
 "metadata": {
  "kernelspec": {
   "display_name": "Python 3 (ipykernel)",
   "language": "python",
   "name": "python3"
  },
  "language_info": {
   "codemirror_mode": {
    "name": "ipython",
    "version": 3
   },
   "file_extension": ".py",
   "mimetype": "text/x-python",
   "name": "python",
   "nbconvert_exporter": "python",
   "pygments_lexer": "ipython3",
   "version": "3.9.13"
  }
 },
 "nbformat": 4,
 "nbformat_minor": 5
}
